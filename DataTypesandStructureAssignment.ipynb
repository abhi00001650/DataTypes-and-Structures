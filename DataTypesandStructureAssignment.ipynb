{
 "cells": [
  {
   "cell_type": "raw",
   "id": "35108141-7017-4c96-9981-6b9b79b404f0",
   "metadata": {},
   "source": [
    "#DATA TYPE AND STRUCTURES ASSIGNMENT \n",
    "#THEORY QUESTIONS"
   ]
  },
  {
   "cell_type": "raw",
   "id": "8333d6f6-de8f-4bf3-9231-4593ae6929d5",
   "metadata": {},
   "source": [
    "1)What are data structures, and why are they important?\n",
    "- Data Structures are ways of organising and storing data. They are important as they are very efficient if you want to access or modify stored data."
   ]
  },
  {
   "cell_type": "raw",
   "id": "0e7a2114-916b-4ffd-b374-4f02a0b3903d",
   "metadata": {},
   "source": [
    "2)Explain the difference between mutable and immutable data types with examples?\n",
    "- Datatypes that can be modified are mutable whereas datatypes that cannot  be modified are immutable . Examples:- Mutable datatypes - LIST,DICT ; Immutable datatypes - Tuple"
   ]
  },
  {
   "cell_type": "raw",
   "id": "d72d324e-e317-45b4-8bcd-399a2b192945",
   "metadata": {},
   "source": [
    "3) What are the main differences between lists and tuples in Python?\n",
    "-LISTS: Lists are mutable  and can be modified . TUPLE: Tuple are immutable and cannot be modifed."
   ]
  },
  {
   "cell_type": "raw",
   "id": "3a72ce7f-9ed0-4fea-a42e-11aeb313d2db",
   "metadata": {},
   "source": [
    "4) Describe how dictionaries store data?\n",
    "- They store data in the form of key and value pairs using hashing . They are unordered so indexes dont work here and you use keys to access the data. Example - \"Course\" : \"Artificial Intelligence\" "
   ]
  },
  {
   "cell_type": "raw",
   "id": "06a1c03f-9e66-4f7a-a126-2c19c83af012",
   "metadata": {},
   "source": [
    "5)  Why might you use a set instead of a list in Python?\n",
    "- SETS - They are used to store the unique values and are used for fast membership checking.\n",
    "Example: s= {1,2,3,3,2,1}\n",
    "         s\n",
    "Output = {1,2,3} "
   ]
  },
  {
   "cell_type": "raw",
   "id": "9956b1b8-c7ad-478a-8b37-d8b5f37330e4",
   "metadata": {},
   "source": [
    "6) What is a string in Python, and how is it different from a list?\n",
    "- String - Strings are sequence of characters( immutable ) .\n",
    "  Lists - List are sequence of elements (Mutable and can store any datatype)."
   ]
  },
  {
   "cell_type": "raw",
   "id": "ecbcb365-0b0f-47d5-a227-5b8d67351e2b",
   "metadata": {},
   "source": [
    "7)How do tuples ensure data integrity in Python?\n",
    "- They are immutable so we cannot alter the data stored in tuple , which ensures data integrity."
   ]
  },
  {
   "cell_type": "raw",
   "id": "4b86b14c-cb5d-4ebd-b82d-0dcf9ed33d68",
   "metadata": {},
   "source": [
    "8) What is a hash table, and how does it relate to dictionaries in Python?\n",
    "- It stores data using hash functions. Python Dictionaries are built on hash tables."
   ]
  },
  {
   "cell_type": "raw",
   "id": "79a558bc-718e-4874-96d2-adf25081595e",
   "metadata": {},
   "source": [
    "9) Can lists contain different data types in Python?\n",
    "- Yes, list can contain different incuding other lists . They are like the shopping bag ."
   ]
  },
  {
   "cell_type": "raw",
   "id": "535ff8c5-b341-4566-86e1-1eb5e63ca5a6",
   "metadata": {},
   "source": [
    "10) Explain why strings are immutable in Python?\n",
    "- Strings are immutable to improve memory efficiency and security."
   ]
  },
  {
   "cell_type": "raw",
   "id": "92a663e6-6a65-435b-a473-dfac463a8265",
   "metadata": {},
   "source": [
    "11) What advantages do dictionaries offer over lists for certain tasks?\n",
    "- Dictionaries allow fast lookup by keys , whereas lists need index . "
   ]
  },
  {
   "cell_type": "raw",
   "id": "6a53fd66-a288-4379-bac0-7b3b7b0ae2cd",
   "metadata": {},
   "source": [
    "12)  Describe a scenario where using a tuple would be preferable over a list?\n",
    "- When you dont have to modify the data we use Tuple as they are immutable unlike list . Example: storing co-ordinates (x,y)"
   ]
  },
  {
   "cell_type": "raw",
   "id": "c53c79c1-6aec-491d-aa1d-8be41063b361",
   "metadata": {},
   "source": [
    "13) How do sets handle duplicate values in Python?\n",
    "- Sets automatically removes the duplicate data and stores only unique values. \n",
    "Example: s= {1,2,3,3,2,1}\n",
    "         s\n",
    "Output = {1,2,3} "
   ]
  },
  {
   "cell_type": "raw",
   "id": "0a6b0d1f-632e-4efe-9630-4ce9d2c3f956",
   "metadata": {},
   "source": [
    "14) How does the “in” keyword work differently for lists and dictionaries?\n",
    "Lists - They check elements stored in list\n",
    "Dictionary -  They check keys "
   ]
  },
  {
   "cell_type": "raw",
   "id": "04fa91b7-8a47-4d32-bec1-f6ef7ddf1fde",
   "metadata": {},
   "source": [
    "15) Can you modify the elements of a tuple? Explain why or why not?\n",
    "- We cannot modify elememts stored in a tuple as they are immutable ."
   ]
  },
  {
   "cell_type": "raw",
   "id": "c30bd907-a7ef-45e7-9c6c-1ff986cbd6ff",
   "metadata": {},
   "source": [
    "16) What is a nested dictionary, and give an example of its use case?\n",
    "- A nested dicitonary is a dictionary stored inside another dictionary . \n",
    "my_dict= {\"name\" : [\"Abhi\",\"Abhay\",\"Adi\"]}"
   ]
  },
  {
   "cell_type": "raw",
   "id": "39fb6494-0724-4c3e-9b37-fc94f5fb9038",
   "metadata": {},
   "source": [
    "17) Describe the time complexity of accessing elements in a dictionary?\n",
    "- Accessing elements in a dictionary is on average 0 which means it has very fast element retrieval"
   ]
  },
  {
   "cell_type": "raw",
   "id": "0d1e8895-f4a6-4ce8-87f4-1d1c2c7fc552",
   "metadata": {},
   "source": [
    "18) In what situations are lists preferred over dictionaries?\n",
    "- Lists are used when order matters and data can be duplicate or we have to access the data  in sequence."
   ]
  },
  {
   "cell_type": "raw",
   "id": "acdf81cf-d9ec-4a50-8fbe-1173e28fcddd",
   "metadata": {},
   "source": [
    "19) Why are dictionaries considered unordered, and how does that affect data retrieval?\n",
    "- They are considered unordered as keys are stored by hash not index . It has a effect as we can retrieve the data by keys and not index."
   ]
  },
  {
   "cell_type": "raw",
   "id": "d5a1b843-d491-4063-8371-ad61173f0f55",
   "metadata": {},
   "source": [
    "20 ) Explain the difference between a list and a dictionary in terms of data retrieval?\n",
    "- List - Retrieve the data by index.\n",
    "  Dictionary -  Retrieve data by key."
   ]
  },
  {
   "cell_type": "raw",
   "id": "732f9eec-c442-4497-aed8-24da6dcbae13",
   "metadata": {},
   "source": [
    "#PRACTICAL QUESTION"
   ]
  },
  {
   "cell_type": "code",
   "execution_count": 2,
   "id": "5ce31e9b-08e5-4b85-8d1c-cccd2e70e5a6",
   "metadata": {},
   "outputs": [
    {
     "name": "stdout",
     "output_type": "stream",
     "text": [
      "Abhi\n"
     ]
    }
   ],
   "source": [
    "#1) Write a code to create a string with your name and print it\n",
    "name = \"Abhi\"\n",
    "print(name)"
   ]
  },
  {
   "cell_type": "code",
   "execution_count": 4,
   "id": "cb3410ee-1af5-4706-ba61-507f4d68fd8a",
   "metadata": {},
   "outputs": [
    {
     "name": "stdout",
     "output_type": "stream",
     "text": [
      "11\n"
     ]
    }
   ],
   "source": [
    "#2) Write a code to find the length of the string \"Hello World\"\n",
    "String1 = \"Hello World\"\n",
    "print(len(String1))"
   ]
  },
  {
   "cell_type": "code",
   "execution_count": 5,
   "id": "c83f5f61-54e7-4406-8978-9643759b2f13",
   "metadata": {},
   "outputs": [
    {
     "name": "stdout",
     "output_type": "stream",
     "text": [
      "Pyt\n"
     ]
    }
   ],
   "source": [
    "#3) Write a code to slice the first 3 characters from the string \"Python Programming\"\n",
    "String2 = \"Python Programming\"\n",
    "print(String2[0:3])"
   ]
  },
  {
   "cell_type": "code",
   "execution_count": 9,
   "id": "703c9243-5e04-43d8-9b6e-4090302f7207",
   "metadata": {},
   "outputs": [
    {
     "name": "stdout",
     "output_type": "stream",
     "text": [
      "HELLO\n"
     ]
    }
   ],
   "source": [
    "#4) Write a code to convert the string \"hello\" to uppercase\n",
    "String3 = \"hello\"\n",
    "print(String3.upper())"
   ]
  },
  {
   "cell_type": "code",
   "execution_count": 10,
   "id": "54390d8e-a0ea-43d8-9a36-7ae171bf0580",
   "metadata": {},
   "outputs": [
    {
     "name": "stdout",
     "output_type": "stream",
     "text": [
      "I Like Orange\n"
     ]
    }
   ],
   "source": [
    "#5)  Write a code to replace the word \"apple\" with \"orange\" in the string \"I like apple\n",
    "fruit1 = \"I Like Apple\"\n",
    "print(fruit1.replace(\"Apple\",\"Orange\"))"
   ]
  },
  {
   "cell_type": "code",
   "execution_count": 11,
   "id": "c56e6d30-ce85-41b8-9d5d-3466d042cc11",
   "metadata": {},
   "outputs": [
    {
     "name": "stdout",
     "output_type": "stream",
     "text": [
      "[1, 2, 3, 4, 5]\n"
     ]
    }
   ],
   "source": [
    "#6) Write a code to create a list with numbers 1 to 5 and print it\n",
    "list1 = [1,2,3,4,5]\n",
    "print(list1)"
   ]
  },
  {
   "cell_type": "code",
   "execution_count": 12,
   "id": "608a383e-f03d-4a09-ad97-998e878a9658",
   "metadata": {},
   "outputs": [
    {
     "name": "stdout",
     "output_type": "stream",
     "text": [
      "[1, 2, 3, 4, 10]\n"
     ]
    }
   ],
   "source": [
    "#7) Write a code to append the number 10 to the list [1, 2, 3, 4]\n",
    "list2 = [1,2,3,4]\n",
    "list2.append(10)\n",
    "print(list2)"
   ]
  },
  {
   "cell_type": "code",
   "execution_count": 13,
   "id": "3972a2e9-6577-45f5-ba73-342926ef2db9",
   "metadata": {},
   "outputs": [
    {
     "name": "stdout",
     "output_type": "stream",
     "text": [
      "[1, 2, 4, 5]\n"
     ]
    }
   ],
   "source": [
    "#8) Write a code to remove the number 3 from the list [1, 2, 3, 4, 5]\n",
    "list3 = [1,2,3,4,5]\n",
    "list3.remove(3)\n",
    "print(list3)"
   ]
  },
  {
   "cell_type": "code",
   "execution_count": 16,
   "id": "9eb01c49-cd27-4d84-8a95-afb5e70079b4",
   "metadata": {},
   "outputs": [
    {
     "name": "stdout",
     "output_type": "stream",
     "text": [
      "b\n"
     ]
    }
   ],
   "source": [
    "#9 Write a code to access the second element in the list ['a', 'b', 'c', 'd']\n",
    "list4 = [\"a\", \"b\", \"c\", \"d\"]\n",
    "print(list4[1])"
   ]
  },
  {
   "cell_type": "code",
   "execution_count": 18,
   "id": "814f6fe5-71d4-4015-b6b1-45e1b758dd28",
   "metadata": {},
   "outputs": [
    {
     "name": "stdout",
     "output_type": "stream",
     "text": [
      "[50, 40, 30, 20, 10]\n"
     ]
    }
   ],
   "source": [
    "#10 Write a code to reverse the list [10, 20, 30, 40, 50].\n",
    "list5 = [10,20,30,40,50]\n",
    "print(list5[::-1])"
   ]
  },
  {
   "cell_type": "code",
   "execution_count": 19,
   "id": "0ac3197e-a63c-491e-bdcf-ee25ec2dcc85",
   "metadata": {},
   "outputs": [
    {
     "name": "stdout",
     "output_type": "stream",
     "text": [
      "(100, 200, 300)\n"
     ]
    }
   ],
   "source": [
    "#11  Write a code to create a tuple with the elements 100, 200, 300 and print it.\n",
    "t1 = (100,200,300)\n",
    "print(t1)"
   ]
  },
  {
   "cell_type": "code",
   "execution_count": 20,
   "id": "453cc530-9aaf-40f3-857a-367a4603e552",
   "metadata": {},
   "outputs": [
    {
     "name": "stdout",
     "output_type": "stream",
     "text": [
      "blue\n"
     ]
    }
   ],
   "source": [
    "#12 Write a code to access the second-to-last element of the tuple ('red', 'green', 'blue', 'yellow').\n",
    "colours = ('red', 'green', 'blue', 'yellow')\n",
    "print(colours[-2])"
   ]
  },
  {
   "cell_type": "code",
   "execution_count": 21,
   "id": "fec708c0-1582-41a9-bbd1-0d7d57954c8e",
   "metadata": {},
   "outputs": [
    {
     "name": "stdout",
     "output_type": "stream",
     "text": [
      "5\n"
     ]
    }
   ],
   "source": [
    "#13  Write a code to find the minimum number in the tuple (10, 20, 5, 15).\n",
    "t2 = (10,20,5,15)\n",
    "print(min(t2))"
   ]
  },
  {
   "cell_type": "code",
   "execution_count": 22,
   "id": "61fb666e-edb0-4790-a290-2201bee654a5",
   "metadata": {},
   "outputs": [
    {
     "name": "stdout",
     "output_type": "stream",
     "text": [
      "1\n"
     ]
    }
   ],
   "source": [
    "#14  Write a code to find the index of the element \"cat\" in the tuple ('dog', 'cat', 'rabbit').\n",
    "t3 = ('dog', 'cat', 'rabbit')\n",
    "print(t3.index(\"cat\"))"
   ]
  },
  {
   "cell_type": "code",
   "execution_count": 24,
   "id": "65285248-b4c3-4357-b248-2feda6377174",
   "metadata": {},
   "outputs": [
    {
     "name": "stdout",
     "output_type": "stream",
     "text": [
      "False\n"
     ]
    }
   ],
   "source": [
    "#15  Write a code to create a tuple containing three different fruits and check if \"kiwi\" is in it.\n",
    "fruits2 = (\"Apple\",\"Mango\",\"Watermelon\")\n",
    "print(\"kiwi\" in fruits2)"
   ]
  },
  {
   "cell_type": "code",
   "execution_count": 25,
   "id": "65295aea-5866-47a5-9587-1c7ccdc7cb19",
   "metadata": {},
   "outputs": [
    {
     "name": "stdout",
     "output_type": "stream",
     "text": [
      "{'c', 'b', 'a'}\n"
     ]
    }
   ],
   "source": [
    "#16 Write a code to create a set with the elements 'a', 'b', 'c' and print it\n",
    "s1 = {\"a\",\"b\",\"c\"}\n",
    "print(s1)"
   ]
  },
  {
   "cell_type": "code",
   "execution_count": 26,
   "id": "b33bdc94-b78f-4d37-a6ef-6f588da55edc",
   "metadata": {},
   "outputs": [
    {
     "name": "stdout",
     "output_type": "stream",
     "text": [
      "set()\n"
     ]
    }
   ],
   "source": [
    "#17 Write a code to clear all elements from the set {1, 2, 3, 4, 5}.\n",
    "s2 = {1,2,3,4,5}\n",
    "s2.clear()\n",
    "print(s2)"
   ]
  },
  {
   "cell_type": "code",
   "execution_count": 27,
   "id": "15fa99ea-dbd3-4bb1-9097-2a7a53ba5fa8",
   "metadata": {},
   "outputs": [
    {
     "name": "stdout",
     "output_type": "stream",
     "text": [
      "{1, 2, 4}\n"
     ]
    }
   ],
   "source": [
    "#18 Write a code to remove the element 4 from the set {1, 2, 3, 4}.\n",
    "s3 = {1, 2, 3, 4}\n",
    "s3.remove(3)\n",
    "print(s3)"
   ]
  },
  {
   "cell_type": "code",
   "execution_count": 28,
   "id": "3137a8d2-0ba5-4318-9d42-6cf63d19ccd2",
   "metadata": {},
   "outputs": [
    {
     "name": "stdout",
     "output_type": "stream",
     "text": [
      "{1, 2, 3, 4, 5}\n"
     ]
    }
   ],
   "source": [
    "#19 Write a code to find the union of two sets {1, 2, 3} and {3, 4, 5}.\n",
    "set_a = {1,2,3}\n",
    "set_b = {3,4,5}\n",
    "print(set_a | set_b)"
   ]
  },
  {
   "cell_type": "code",
   "execution_count": 29,
   "id": "09927294-e62c-4486-b53b-a296fe0bc616",
   "metadata": {},
   "outputs": [
    {
     "name": "stdout",
     "output_type": "stream",
     "text": [
      "{2, 3}\n"
     ]
    }
   ],
   "source": [
    "#20 Write a code to find the intersection of two sets {1, 2, 3} and {2, 3, 4}.\n",
    "set_c = {1,2,3}\n",
    "set_d = {2,3,4}\n",
    "print(set_c & set_d)"
   ]
  },
  {
   "cell_type": "code",
   "execution_count": 31,
   "id": "034f0acc-2637-4ee0-af35-4d23c8d7e3db",
   "metadata": {},
   "outputs": [
    {
     "name": "stdout",
     "output_type": "stream",
     "text": [
      "{'name': 'Abhi', 'age': 21, 'city': 'Lucknow'}\n"
     ]
    }
   ],
   "source": [
    "#21 Write a code to create a dictionary with the keys \"name\", \"age\", and \"city\", and print it.\n",
    "dict1 = {\"name\":\"Abhi\" ,\"age\": 21 ,\"city\" : \"Lucknow\"}\n",
    "print(dict1)"
   ]
  },
  {
   "cell_type": "code",
   "execution_count": 32,
   "id": "60367f8c-0ca5-42f4-a155-1484663d2bec",
   "metadata": {},
   "outputs": [
    {
     "name": "stdout",
     "output_type": "stream",
     "text": [
      "{'name': 'John', 'age': 25, 'country': 'USA'}\n"
     ]
    }
   ],
   "source": [
    "#22 Write a code to add a new key-value pair \"country\": \"USA\" to the dictionary {'name': 'John', 'age': 25}.\n",
    "dict2 = {'name': 'John', 'age': 25}\n",
    "dict2[\"country\"] = \"USA\"\n",
    "print(dict2)"
   ]
  },
  {
   "cell_type": "code",
   "execution_count": 34,
   "id": "6f3f96bf-5baa-4473-988a-4ca9f798d4e0",
   "metadata": {},
   "outputs": [
    {
     "name": "stdout",
     "output_type": "stream",
     "text": [
      "Alice\n"
     ]
    }
   ],
   "source": [
    "#23 Write a code to access the value associated with the key \"name\" in the dictionary {'name': 'Alice', 'age': 30}.\n",
    "dict3 = {'name': 'Alice', 'age': 30}\n",
    "print(dict3[\"name\"])"
   ]
  },
  {
   "cell_type": "code",
   "execution_count": 36,
   "id": "a6c0c4e6-401d-4423-80c3-884be2bc8a79",
   "metadata": {},
   "outputs": [
    {
     "name": "stdout",
     "output_type": "stream",
     "text": [
      "22\n"
     ]
    },
    {
     "data": {
      "text/plain": [
       "{'name': 'Bob', 'city': 'New York'}"
      ]
     },
     "execution_count": 36,
     "metadata": {},
     "output_type": "execute_result"
    }
   ],
   "source": [
    "#24 Write a code to remove the key \"age\" from the dictionary {'name': 'Bob', 'age': 22, 'city': 'New York'}.\n",
    "dict4 = {'name': 'Bob', 'age': 22, 'city': 'New York'}\n",
    "print(dict4.pop(\"age\"))\n",
    "dict4"
   ]
  },
  {
   "cell_type": "code",
   "execution_count": 38,
   "id": "2b82fbb2-4044-4724-9372-c71d99c6b6cc",
   "metadata": {},
   "outputs": [
    {
     "name": "stdout",
     "output_type": "stream",
     "text": [
      "True\n"
     ]
    }
   ],
   "source": [
    "#25 Write a code to check if the key \"city\" exists in the dictionary {'name': 'Alice', 'city': 'Paris'}.\n",
    "dict5 = {'name': 'Alice', 'city': 'Paris'}\n",
    "print(\"city\" in dict5)"
   ]
  },
  {
   "cell_type": "code",
   "execution_count": 39,
   "id": "66a03012-beba-415b-9dd1-067befdaa645",
   "metadata": {},
   "outputs": [
    {
     "name": "stdout",
     "output_type": "stream",
     "text": [
      "[1, 2, 3] (1, 2, 3) {'a': 1, 'b': 2, 'c': 3}\n"
     ]
    }
   ],
   "source": [
    "#26 Write a code to create a list, a tuple, and a dictionary, and print them all.\n",
    "list10 = [1,2,3]\n",
    "tuple10 = (1,2,3)\n",
    "dict10 = {\"a\" : 1, \"b\" : 2 , \"c\" : 3}\n",
    "print(list10,tuple10,dict10)"
   ]
  },
  {
   "cell_type": "code",
   "execution_count": 45,
   "id": "068f48b0-fb49-4434-b9dd-7f854ebd87b5",
   "metadata": {},
   "outputs": [
    {
     "name": "stdout",
     "output_type": "stream",
     "text": [
      "[3, 6, 29, 74, 88]\n"
     ]
    }
   ],
   "source": [
    "#27 . Write a code to create a list of 5 random numbers between 1 and 100, sort it in ascending order, and print the result\n",
    "import random\n",
    "r1 = ([random.randint(1,100) for _ in range(5)])\n",
    "r1.sort()\n",
    "print(r1)\n"
   ]
  },
  {
   "cell_type": "code",
   "execution_count": 46,
   "id": "d73b5115-09bd-4953-b12f-8939b598d8c5",
   "metadata": {},
   "outputs": [
    {
     "data": {
      "text/plain": [
       "'yellow'"
      ]
     },
     "execution_count": 46,
     "metadata": {},
     "output_type": "execute_result"
    }
   ],
   "source": [
    "#28 Write a code to create a list with strings and print the element at the third index.\n",
    "colours1 = [\"red\", \"green\", \"blue\", \"yellow\",\"violet\",\"purple\"]\n",
    "colours1[3]"
   ]
  },
  {
   "cell_type": "code",
   "execution_count": 48,
   "id": "5724d9b0-3565-4670-9d71-463079fca940",
   "metadata": {},
   "outputs": [
    {
     "name": "stdout",
     "output_type": "stream",
     "text": [
      "{'name': 'Abhi', 'age': 21, 'city': 'Lucknow', 'pincode': '221212'}\n"
     ]
    }
   ],
   "source": [
    "#29 Write a code to combine two dictionaries into one and print the result.\n",
    "dict_a = {\"name\" : \"Abhi\" , \"age\" : 21}\n",
    "dict_b = {\"city\" : \"Lucknow\" , \"pincode\" : \"221212\"}\n",
    "dict_c = dict_a.copy()\n",
    "dict_c.update(dict_b)\n",
    "print(dict_c)"
   ]
  },
  {
   "cell_type": "code",
   "execution_count": 49,
   "id": "d9603cd0-498b-4e1d-9f35-dd6588dde0f1",
   "metadata": {},
   "outputs": [
    {
     "name": "stdout",
     "output_type": "stream",
     "text": [
      "{'Ishan', 'Abhay', 'Khush', 'Adi', 'Abhi'}\n"
     ]
    }
   ],
   "source": [
    "#30 Write a code to convert a list of strings into a set.\n",
    "my_str = [\"Abhi\",\"Abhay\",\"Adi\",\"Ishan\",\"Khush\"]\n",
    "print(set(my_str))"
   ]
  }
 ],
 "metadata": {
  "kernelspec": {
   "display_name": "Python [conda env:base] *",
   "language": "python",
   "name": "conda-base-py"
  },
  "language_info": {
   "codemirror_mode": {
    "name": "ipython",
    "version": 3
   },
   "file_extension": ".py",
   "mimetype": "text/x-python",
   "name": "python",
   "nbconvert_exporter": "python",
   "pygments_lexer": "ipython3",
   "version": "3.13.5"
  }
 },
 "nbformat": 4,
 "nbformat_minor": 5
}
